{
 "cells": [
  {
   "cell_type": "code",
   "execution_count": 9,
   "id": "0b45c47e",
   "metadata": {},
   "outputs": [],
   "source": [
    "import pandas as pd\n",
    "import numpy as np\n",
    "from sklearn.feature_selection import SelectKBest\n",
    "from sklearn.feature_selection import chi2\n",
    "import matplotlib.pyplot as plt\n",
    "from sklearn.model_selection import train_test_split\n",
    "from sklearn.linear_model import LinearRegression\n",
    "from sklearn.preprocessing import StandardScaler\n",
    "from sklearn.pipeline import Pipeline\n",
    "import sys"
   ]
  },
  {
   "cell_type": "code",
   "execution_count": 2,
   "id": "927c1f93",
   "metadata": {},
   "outputs": [],
   "source": [
    "df = pd.read_csv('airport.csv')\n",
    "del df[\"time_of_day\"]\n",
    "del df[\"booth_rate\"]"
   ]
  },
  {
   "cell_type": "code",
   "execution_count": 3,
   "id": "6f518a52",
   "metadata": {},
   "outputs": [],
   "source": [
    "df[\"us\"] = df[\"us_avg_wait\"]\n",
    "df[\"non_us\"] = df[\"non_us_avg_wait\"]"
   ]
  },
  {
   "cell_type": "code",
   "execution_count": 4,
   "id": "fc35f5b1",
   "metadata": {},
   "outputs": [],
   "source": [
    "df['label'] = 0\n",
    "for index, row in df.iterrows():\n",
    "    if row['all_avg_wait']>15:\n",
    "        df.at[index,'label'] = 1\n",
    "    else:\n",
    "        df.at[index,'label'] = 0"
   ]
  },
  {
   "cell_type": "code",
   "execution_count": 5,
   "id": "9e004fb7",
   "metadata": {},
   "outputs": [],
   "source": [
    "X = df.iloc[:,22:34]\n",
    "y = df.iloc[:,-1] "
   ]
  },
  {
   "cell_type": "code",
   "execution_count": 6,
   "id": "5189a564",
   "metadata": {},
   "outputs": [
    {
     "name": "stdout",
     "output_type": "stream",
     "text": [
      "            Specs         Score\n",
      "0      passengers  1.095464e+06\n",
      "11         non_us  2.122630e+05\n",
      "10             us  8.590340e+04\n",
      "2          booths  2.476880e+03\n",
      "1         flights  2.333207e+03\n",
      "5   early morning  5.939148e+02\n",
      "9    late evening  4.261540e+02\n"
     ]
    }
   ],
   "source": [
    "bestfeatures = SelectKBest(score_func=chi2, k=7)\n",
    "fit = bestfeatures.fit(X,y)\n",
    "dfscores = pd.DataFrame(fit.scores_)\n",
    "dfcolumns = pd.DataFrame(X.columns)\n",
    "featureScores = pd.concat([dfcolumns,dfscores],axis=1)\n",
    "featureScores.columns = ['Specs','Score']  #naming the dataframe columns\n",
    "print(featureScores.nlargest(7,'Score'))  #print 10 best features"
   ]
  },
  {
   "cell_type": "code",
   "execution_count": 8,
   "id": "3fe1b148",
   "metadata": {},
   "outputs": [
    {
     "name": "stdout",
     "output_type": "stream",
     "text": [
      "[0.07639022 0.02485004 0.0431301  0.00364888 0.00057581 0.01264003\n",
      " 0.00409755 0.00521195 0.00837395 0.0057309  0.27976275 0.53558781]\n"
     ]
    },
    {
     "data": {
      "image/png": "[encoded data removed]",
      "text/plain": [
       "<Figure size 432x288 with 1 Axes>"
      ]
     },
     "metadata": {
      "needs_background": "light"
     },
     "output_type": "display_data"
    }
   ],
   "source": [
    "from sklearn.ensemble import ExtraTreesClassifier\n",
    "import matplotlib.pyplot as plt\n",
    "model = ExtraTreesClassifier()\n",
    "model.fit(X,y)\n",
    "print(model.feature_importances_) #use inbuilt class feature_importances of tree based classifiers\n",
    "#plot graph of feature importances for better visualization\n",
    "feat_importances = pd.Series(model.feature_importances_, index=X.columns)\n",
    "feat_importances.nlargest(7).plot(kind='barh')\n",
    "plt.xlabel('feature importance')\n",
    "plt.ylabel('feature name')\n",
    "plt.show()"
   ]
  },
  {
   "cell_type": "code",
   "execution_count": 5,
   "id": "ee24affd",
   "metadata": {},
   "outputs": [],
   "source": [
    "X = df[[ \"non_us\", \"us\", \"booths\", \"flights\", \"passengers\"]].to_numpy()\n",
    "y = df[['label']].to_numpy()\n",
    "y = np.ravel(y)"
   ]
  },
  {
   "cell_type": "code",
   "execution_count": 6,
   "id": "58691d66",
   "metadata": {},
   "outputs": [],
   "source": [
    "X_train, X_test, y_train, y_test = train_test_split(X, y, test_size=0.33, random_state=42)"
   ]
  },
  {
   "cell_type": "code",
   "execution_count": 14,
   "id": "8c933efd",
   "metadata": {},
   "outputs": [],
   "source": [
    "from sklearn.tree import DecisionTreeClassifier\n",
    "tree_train_list = []\n",
    "index = []\n",
    "tree_test_list = []\n",
    "for i in range(100):\n",
    "    index.append(i+ 1)\n",
    "    tree = DecisionTreeClassifier(max_depth=i + 1)\n",
    "    tree.fit(X_train, y_train)\n",
    "    tree_test_list.append(tree.score(X_test, y_test)) \n",
    "    tree_train_list.append(tree.score(X_train, y_train)) "
   ]
  },
  {
   "cell_type": "code",
   "execution_count": 15,
   "id": "d9a11769",
   "metadata": {},
   "outputs": [
    {
     "data": {
      "image/png": "[encoded data removed]",
      "text/plain": [
       "<Figure size 432x288 with 1 Axes>"
      ]
     },
     "metadata": {
      "needs_background": "light"
     },
     "output_type": "display_data"
    }
   ],
   "source": [
    "plt.plot(index, tree_train_list, label='Train')\n",
    "plt.plot(index, tree_test_list, label='Test')\n",
    "plt.legend(loc='best', numpoints=1)\n",
    "plt.xlabel('max_depth')\n",
    "plt.ylabel('Accuracy')\n",
    "plt.tight_layout()"
   ]
  },
  {
   "cell_type": "code",
   "execution_count": 16,
   "id": "da2deb52",
   "metadata": {},
   "outputs": [
    {
     "name": "stdout",
     "output_type": "stream",
     "text": [
      "Best Accuracy: 96.06%\n",
      "Best Params: {'criterion': 'gini', 'max_depth': 6}\n",
      "Test Accuracy: 96.30%\n"
     ]
    }
   ],
   "source": [
    "from sklearn.model_selection import GridSearchCV\n",
    "tree = DecisionTreeClassifier(random_state=123)\n",
    "\n",
    "new_list = [None]\n",
    "for i in range(20):\n",
    "    new_list.append(i+1)\n",
    "param_grid_tree = {\n",
    "    'criterion': ['gini', 'entropy'],\n",
    "    'max_depth': new_list\n",
    "}\n",
    "\n",
    "gs_tree = GridSearchCV(estimator=tree,\n",
    "                  param_grid=param_grid_tree,\n",
    "                  scoring='accuracy',\n",
    "                  cv=10)\n",
    "\n",
    "gs_tree.fit(X_train, y_train)\n",
    "\n",
    "print('Best Accuracy: %.2f%%' % (gs_tree.best_score_*100))\n",
    "print('Best Params: %s' % gs_tree.best_params_)\n",
    "print('Test Accuracy: %.2f%%' % (gs_tree.best_estimator_.score(X_test, y_test)*100))"
   ]
  },
  {
   "cell_type": "code",
   "execution_count": 17,
   "id": "0b234709",
   "metadata": {},
   "outputs": [
    {
     "name": "stdout",
     "output_type": "stream",
     "text": [
      "Kfold Accuracy: 96.09%\n",
      "OOB Bootstrap Accuracy: 96.04%\n"
     ]
    }
   ],
   "source": [
    "from sklearn.model_selection import cross_val_score\n",
    "from sklearn.model_selection import StratifiedKFold\n",
    "\n",
    "cv_acc_tree = cross_val_score(estimator=gs_tree.best_estimator_,\n",
    "                         X=X_train,\n",
    "                         y=y_train,\n",
    "                         cv=StratifiedKFold(n_splits=10, random_state=123, shuffle=True),\n",
    "                         n_jobs=-1)\n",
    "\n",
    "print('Kfold Accuracy: %.2f%%' % (np.mean(cv_acc_tree)*100))\n",
    "\n",
    "from mlxtend.evaluate import bootstrap_point632_score\n",
    "\n",
    "\n",
    "cv_acc_tree1 = bootstrap_point632_score(estimator=gs_tree.best_estimator_,\n",
    "                                  X=X_train,\n",
    "                                  y=y_train,\n",
    "                                  random_seed=99)\n",
    "\n",
    "print('OOB Bootstrap Accuracy: %.2f%%' % (np.mean(cv_acc_tree1)*100))"
   ]
  },
  {
   "cell_type": "code",
   "execution_count": 18,
   "id": "89f17359",
   "metadata": {},
   "outputs": [
    {
     "name": "stdout",
     "output_type": "stream",
     "text": [
      "[[9276  267]\n",
      " [ 271 4724]]\n",
      "              precision    recall  f1-score   support\n",
      "\n",
      "           0       0.97      0.97      0.97      9543\n",
      "           1       0.95      0.95      0.95      4995\n",
      "\n",
      "    accuracy                           0.96     14538\n",
      "   macro avg       0.96      0.96      0.96     14538\n",
      "weighted avg       0.96      0.96      0.96     14538\n",
      "\n"
     ]
    }
   ],
   "source": [
    "y_pred_tree = gs_tree.best_estimator_.predict(X_test)\n",
    "from sklearn.metrics import classification_report, confusion_matrix\n",
    "tree_conf = confusion_matrix(y_test, y_pred_tree)\n",
    "print(tree_conf)\n",
    "print(classification_report(y_test, y_pred_tree))"
   ]
  },
  {
   "cell_type": "code",
   "execution_count": 19,
   "id": "371a74cb",
   "metadata": {},
   "outputs": [
    {
     "data": {
      "image/png": "[encoded data removed]",
      "text/plain": [
       "<Figure size 432x288 with 2 Axes>"
      ]
     },
     "metadata": {
      "needs_background": "light"
     },
     "output_type": "display_data"
    }
   ],
   "source": [
    "import seaborn as sns\n",
    "\n",
    "group_names = ['True Neg','False Pos','False Neg','True Pos']\n",
    "group_counts = [\"{0:0.0f}\".format(value) for value in\n",
    "tree_conf.flatten()]\n",
    "group_percentages = [\"{0:.2%}\".format(value) for value in\n",
    "tree_conf.flatten()/np.sum(tree_conf)]\n",
    "labels = [f\"{v1}\\n{v2}\\n{v3}\" for v1, v2, v3 in\n",
    "zip(group_names,group_counts,group_percentages)]\n",
    "labels = np.asarray(labels).reshape(2,2)\n",
    "ax = sns.heatmap(tree_conf, annot=labels, fmt='', cmap='Blues')\n",
    "ax.set_title('Decision Tree Confusion Matrix with labels\\n\\n');\n",
    "ax.set_xlabel('\\nPredicted Values')\n",
    "ax.set_ylabel('Actual Values ');\n",
    "## Ticket labels - List must be in alphabetical order\n",
    "ax.xaxis.set_ticklabels(['False','True'])\n",
    "ax.yaxis.set_ticklabels(['False','True'])\n",
    "## Display the visualization of the Confusion Matrix.\n",
    "plt.show()"
   ]
  },
  {
   "cell_type": "code",
   "execution_count": 20,
   "id": "601ce26e",
   "metadata": {},
   "outputs": [
    {
     "name": "stdout",
     "output_type": "stream",
     "text": [
      "Best Accuracy: 96.42%\n",
      "Best Params: {'criterion': 'gini', 'max_depth': 10, 'n_estimators': 100}\n",
      "Test Accuracy: 96.51%\n"
     ]
    }
   ],
   "source": [
    "from sklearn.model_selection import GridSearchCV\n",
    "from sklearn.ensemble import RandomForestClassifier\n",
    "forest = RandomForestClassifier(n_estimators=10, random_state=123)\n",
    "\n",
    "param_grid_forest = {\n",
    "    'criterion': ['gini', 'entropy'],\n",
    "    'n_estimators': [10, 20, 50, 100, 150],\n",
    "    'max_depth': [1, 10, 50, 100, 150]\n",
    "}\n",
    "\n",
    "gs_forest = GridSearchCV(estimator=forest,\n",
    "                  param_grid=param_grid_forest,\n",
    "                  scoring='accuracy',\n",
    "                  cv=10)\n",
    "\n",
    "gs_forest.fit(X_train, y_train)\n",
    "\n",
    "print('Best Accuracy: %.2f%%' % (gs_forest.best_score_*100))\n",
    "print('Best Params: %s' % gs_forest.best_params_)\n",
    "print('Test Accuracy: %.2f%%' % (gs_forest.best_estimator_.score(X_test, y_test)*100))"
   ]
  },
  {
   "cell_type": "code",
   "execution_count": 21,
   "id": "ac0922df",
   "metadata": {},
   "outputs": [
    {
     "name": "stdout",
     "output_type": "stream",
     "text": [
      "Kfold Accuracy: 96.36%\n",
      "OOB Bootstrap Accuracy: 96.74%\n"
     ]
    }
   ],
   "source": [
    "from sklearn.model_selection import cross_val_score\n",
    "from sklearn.model_selection import StratifiedKFold\n",
    "\n",
    "cv_acc_forest = cross_val_score(estimator=gs_forest.best_estimator_,\n",
    "                         X=X_train,\n",
    "                         y=y_train,\n",
    "                         cv=StratifiedKFold(n_splits=10, random_state=123, shuffle=True),\n",
    "                         n_jobs=-1)\n",
    "\n",
    "print('Kfold Accuracy: %.2f%%' % (np.mean(cv_acc_forest)*100))\n",
    "\n",
    "from mlxtend.evaluate import bootstrap_point632_score\n",
    "\n",
    "\n",
    "cv_acc_forest1 = bootstrap_point632_score(estimator=gs_forest.best_estimator_,\n",
    "                                  X=X_train,\n",
    "                                  y=y_train,\n",
    "                                  random_seed=99)\n",
    "\n",
    "print('OOB Bootstrap Accuracy: %.2f%%' % (np.mean(cv_acc_forest1)*100))"
   ]
  },
  {
   "cell_type": "code",
   "execution_count": 22,
   "id": "b2fccb3f",
   "metadata": {},
   "outputs": [
    {
     "name": "stdout",
     "output_type": "stream",
     "text": [
      "[[9271  272]\n",
      " [ 236 4759]]\n",
      "              precision    recall  f1-score   support\n",
      "\n",
      "           0       0.98      0.97      0.97      9543\n",
      "           1       0.95      0.95      0.95      4995\n",
      "\n",
      "    accuracy                           0.97     14538\n",
      "   macro avg       0.96      0.96      0.96     14538\n",
      "weighted avg       0.97      0.97      0.97     14538\n",
      "\n"
     ]
    }
   ],
   "source": [
    "y_pred_forest = gs_forest.best_estimator_.predict(X_test)\n",
    "from sklearn.metrics import classification_report, confusion_matrix\n",
    "forest_conf = confusion_matrix(y_test, y_pred_forest)\n",
    "print(forest_conf)\n",
    "print(classification_report(y_test, y_pred_forest))"
   ]
  },
  {
   "cell_type": "code",
   "execution_count": 23,
   "id": "9c494ac8",
   "metadata": {},
   "outputs": [
    {
     "data": {
      "image/png": "[encoded data removed]",
      "text/plain": [
       "<Figure size 432x288 with 2 Axes>"
      ]
     },
     "metadata": {
      "needs_background": "light"
     },
     "output_type": "display_data"
    }
   ],
   "source": [
    "group_names = ['True Neg','False Pos','False Neg','True Pos']\n",
    "group_counts = [\"{0:0.0f}\".format(value) for value in\n",
    "forest_conf.flatten()]\n",
    "group_percentages = [\"{0:.2%}\".format(value) for value in\n",
    "forest_conf.flatten()/np.sum(forest_conf)]\n",
    "labels = [f\"{v1}\\n{v2}\\n{v3}\" for v1, v2, v3 in\n",
    "zip(group_names,group_counts,group_percentages)]\n",
    "labels = np.asarray(labels).reshape(2,2)\n",
    "ax = sns.heatmap(forest_conf, annot=labels, fmt='', cmap='Blues')\n",
    "ax.set_title('Random Forest Confusion Matrix with labels\\n\\n');\n",
    "ax.set_xlabel('\\nPredicted Values')\n",
    "ax.set_ylabel('Actual Values ');\n",
    "## Ticket labels - List must be in alphabetical order\n",
    "ax.xaxis.set_ticklabels(['False','True'])\n",
    "ax.yaxis.set_ticklabels(['False','True'])\n",
    "## Display the visualization of the Confusion Matrix.\n",
    "plt.show()"
   ]
  },
  {
   "cell_type": "code",
   "execution_count": 7,
   "id": "0619b8d5",
   "metadata": {},
   "outputs": [],
   "source": [
    "from sklearn.neighbors import KNeighborsClassifier\n",
    "\n",
    "knn_train_list = []\n",
    "index = []\n",
    "knn_test_list = []\n",
    "for i in range(100):\n",
    "    index.append(i+ 1)\n",
    "    pipe = Pipeline([('scaler', StandardScaler()), ('knn', KNeighborsClassifier(n_neighbors=i + 1))])\n",
    "    pipe.fit(X_train, y_train)\n",
    "    knn_test_list.append(pipe.score(X_test, y_test)) \n",
    "    knn_train_list.append(pipe.score(X_train, y_train)) "
   ]
  },
  {
   "cell_type": "code",
   "execution_count": 10,
   "id": "8c3773de",
   "metadata": {},
   "outputs": [
    {
     "data": {
      "image/png": "[encoded data removed]",
      "text/plain": [
       "<Figure size 432x288 with 1 Axes>"
      ]
     },
     "metadata": {
      "needs_background": "light"
     },
     "output_type": "display_data"
    }
   ],
   "source": [
    "plt.plot(index, knn_train_list, label='Train')\n",
    "plt.plot(index, knn_test_list, label='Test')\n",
    "plt.legend(loc='best', numpoints=1)\n",
    "plt.xlabel('KNN neighbour number')\n",
    "plt.ylabel('Accuracy')\n",
    "plt.tight_layout()"
   ]
  },
  {
   "cell_type": "code",
   "execution_count": 11,
   "id": "28f3a055",
   "metadata": {},
   "outputs": [
    {
     "name": "stdout",
     "output_type": "stream",
     "text": [
      "Best Accuracy: 96.07%\n",
      "Best Params: {'knn__n_neighbors': 23}\n",
      "Test Accuracy: 96.17%\n"
     ]
    }
   ],
   "source": [
    "from sklearn.model_selection import GridSearchCV\n",
    "pipe = Pipeline([('scaler', StandardScaler()), ('knn', KNeighborsClassifier())])\n",
    "new_list = []\n",
    "for i in range(60):\n",
    "    new_list.append(i+1)\n",
    "param_grid = {\n",
    "    'knn__n_neighbors': new_list\n",
    "}\n",
    "\n",
    "gs_knn = GridSearchCV(estimator=pipe,\n",
    "                  param_grid=param_grid,\n",
    "                  scoring='accuracy',\n",
    "                  cv=10)\n",
    "\n",
    "gs_knn.fit(X_train, y_train)\n",
    "\n",
    "print('Best Accuracy: %.2f%%' % (gs_knn.best_score_*100))\n",
    "print('Best Params: %s' % gs_knn.best_params_)\n",
    "print('Test Accuracy: %.2f%%' % (gs_knn.best_estimator_.score(X_test, y_test)*100))\n"
   ]
  },
  {
   "cell_type": "code",
   "execution_count": 12,
   "id": "84dab08b",
   "metadata": {},
   "outputs": [
    {
     "name": "stdout",
     "output_type": "stream",
     "text": [
      "Kfold Accuracy: 96.06%\n",
      "OOB Bootstrap Accuracy: 95.98%\n"
     ]
    }
   ],
   "source": [
    "from sklearn.model_selection import cross_val_score\n",
    "from sklearn.model_selection import StratifiedKFold\n",
    "\n",
    "cv_acc_knn = cross_val_score(estimator=gs_knn.best_estimator_,\n",
    "                         X=X_train,\n",
    "                         y=y_train,\n",
    "                         cv=StratifiedKFold(n_splits=10, random_state=123, shuffle=True),\n",
    "                         n_jobs=-1)\n",
    "\n",
    "print('Kfold Accuracy: %.2f%%' % (np.mean(cv_acc_knn)*100))\n",
    "\n",
    "from mlxtend.evaluate import bootstrap_point632_score\n",
    "\n",
    "\n",
    "cv_acc_knn1 = bootstrap_point632_score(estimator=gs_knn.best_estimator_,\n",
    "                                  X=X_train,\n",
    "                                  y=y_train,\n",
    "                                  random_seed=99)\n",
    "\n",
    "print('OOB Bootstrap Accuracy: %.2f%%' % (np.mean(cv_acc_knn1)*100))"
   ]
  },
  {
   "cell_type": "code",
   "execution_count": 13,
   "id": "b70cc6fa",
   "metadata": {},
   "outputs": [
    {
     "name": "stdout",
     "output_type": "stream",
     "text": [
      "[[9316  227]\n",
      " [ 330 4665]]\n",
      "              precision    recall  f1-score   support\n",
      "\n",
      "           0       0.97      0.98      0.97      9543\n",
      "           1       0.95      0.93      0.94      4995\n",
      "\n",
      "    accuracy                           0.96     14538\n",
      "   macro avg       0.96      0.96      0.96     14538\n",
      "weighted avg       0.96      0.96      0.96     14538\n",
      "\n"
     ]
    }
   ],
   "source": [
    "y_pred_knn = gs_knn.best_estimator_.predict(X_test)\n",
    "from sklearn.metrics import classification_report, confusion_matrix\n",
    "knn_conf = confusion_matrix(y_test, y_pred_knn)\n",
    "print(knn_conf)\n",
    "print(classification_report(y_test, y_pred_knn))"
   ]
  },
  {
   "cell_type": "code",
   "execution_count": 15,
   "id": "74742acc",
   "metadata": {},
   "outputs": [
    {
     "data": {
      "image/png": "[encoded data removed]",
      "text/plain": [
       "<Figure size 432x288 with 2 Axes>"
      ]
     },
     "metadata": {
      "needs_background": "light"
     },
     "output_type": "display_data"
    }
   ],
   "source": [
    "import seaborn as sns\n",
    "\n",
    "group_names = ['True Neg','False Pos','False Neg','True Pos']\n",
    "group_counts = [\"{0:0.0f}\".format(value) for value in\n",
    "knn_conf.flatten()]\n",
    "group_percentages = [\"{0:.2%}\".format(value) for value in\n",
    "knn_conf.flatten()/np.sum(knn_conf)]\n",
    "labels = [f\"{v1}\\n{v2}\\n{v3}\" for v1, v2, v3 in\n",
    "zip(group_names,group_counts,group_percentages)]\n",
    "labels = np.asarray(labels).reshape(2,2)\n",
    "ax = sns.heatmap(knn_conf, annot=labels, fmt='', cmap='Blues')\n",
    "ax.set_title('K Nearest Neighbour Confusion Matrix with labels\\n\\n');\n",
    "ax.set_xlabel('\\nPredicted Values')\n",
    "ax.set_ylabel('Actual Values ');\n",
    "## Ticket labels - List must be in alphabetical order\n",
    "ax.xaxis.set_ticklabels(['False','True'])\n",
    "ax.yaxis.set_ticklabels(['False','True'])\n",
    "## Display the visualization of the Confusion Matrix.\n",
    "plt.show()"
   ]
  },
  {
   "cell_type": "code",
   "execution_count": 16,
   "id": "550b94a9",
   "metadata": {},
   "outputs": [],
   "source": [
    "from xgboost import XGBClassifier\n",
    "from sklearn.model_selection import GridSearchCV\n",
    "\n",
    "boost_train_list = []\n",
    "index = []\n",
    "boost_test_list = []\n",
    "for i in range(30):\n",
    "    index.append(i+ 1)\n",
    "    boost = XGBClassifier(random_state=123, verbosity=0, use_label_encoder=False, max_depth = i +1)\n",
    "    boost.fit(X_train, y_train)\n",
    "    boost_test_list.append(boost.score(X_test, y_test)) \n",
    "    boost_train_list.append(boost.score(X_train, y_train)) "
   ]
  },
  {
   "cell_type": "code",
   "execution_count": 17,
   "id": "27fb4e77",
   "metadata": {},
   "outputs": [
    {
     "data": {
      "image/png": "[encoded data removed]",
      "text/plain": [
       "<Figure size 432x288 with 1 Axes>"
      ]
     },
     "metadata": {
      "needs_background": "light"
     },
     "output_type": "display_data"
    }
   ],
   "source": [
    "plt.plot(index, boost_train_list, label='Train')\n",
    "plt.plot(index, boost_test_list, label='Test')\n",
    "plt.legend(loc='best', numpoints=1)\n",
    "plt.xlabel('max_depth')\n",
    "plt.ylabel('Accuracy')\n",
    "plt.tight_layout()"
   ]
  },
  {
   "cell_type": "code",
   "execution_count": 19,
   "id": "49bec798",
   "metadata": {},
   "outputs": [
    {
     "name": "stdout",
     "output_type": "stream",
     "text": [
      "Best Accuracy: 96.61%\n",
      "Best Params: {'learning_rate': 0.1, 'max_depth': 7}\n",
      "Test Accuracy: 96.51%\n"
     ]
    }
   ],
   "source": [
    "from xgboost import XGBClassifier\n",
    "from sklearn.model_selection import GridSearchCV\n",
    "boost = XGBClassifier(random_state=123, verbosity=0, use_label_encoder=False)\n",
    "\n",
    "new_list = []\n",
    "for i in range(8):\n",
    "    new_list.append(i+1)\n",
    "param_grid = {\n",
    "    'max_depth': new_list,\n",
    "    'learning_rate': [0.1, 0.01]\n",
    "}\n",
    "\n",
    "gs_boost = GridSearchCV(estimator=boost,\n",
    "                  param_grid=param_grid,\n",
    "                  scoring='accuracy',\n",
    "                  cv=10)\n",
    "\n",
    "gs_boost.fit(X_train, y_train)\n",
    "\n",
    "print('Best Accuracy: %.2f%%' % (gs_boost.best_score_*100))\n",
    "print('Best Params: %s' % gs_boost.best_params_)\n",
    "print('Test Accuracy: %.2f%%' % (gs_boost.best_estimator_.score(X_test, y_test)*100))"
   ]
  },
  {
   "cell_type": "code",
   "execution_count": 20,
   "id": "994cd48d",
   "metadata": {},
   "outputs": [
    {
     "name": "stdout",
     "output_type": "stream",
     "text": [
      "Kfold Accuracy: 96.47%\n",
      "OOB Bootstrap Accuracy: 96.72%\n"
     ]
    }
   ],
   "source": [
    "from sklearn.model_selection import cross_val_score\n",
    "from sklearn.model_selection import StratifiedKFold\n",
    "\n",
    "cv_acc_boost = cross_val_score(estimator=gs_boost.best_estimator_,\n",
    "                         X=X_train,\n",
    "                         y=y_train,\n",
    "                         cv=StratifiedKFold(n_splits=10, random_state=123, shuffle=True),\n",
    "                         n_jobs=-1)\n",
    "\n",
    "print('Kfold Accuracy: %.2f%%' % (np.mean(cv_acc_boost)*100))\n",
    "\n",
    "from mlxtend.evaluate import bootstrap_point632_score\n",
    "\n",
    "\n",
    "cv_acc_boost1 = bootstrap_point632_score(estimator=gs_boost.best_estimator_,\n",
    "                                  X=X_train,\n",
    "                                  y=y_train,\n",
    "                                  random_seed=99)\n",
    "\n",
    "print('OOB Bootstrap Accuracy: %.2f%%' % (np.mean(cv_acc_boost1)*100))"
   ]
  },
  {
   "cell_type": "code",
   "execution_count": 21,
   "id": "a55f1a2d",
   "metadata": {},
   "outputs": [
    {
     "name": "stdout",
     "output_type": "stream",
     "text": [
      "[[9265  278]\n",
      " [ 229 4766]]\n",
      "              precision    recall  f1-score   support\n",
      "\n",
      "           0       0.98      0.97      0.97      9543\n",
      "           1       0.94      0.95      0.95      4995\n",
      "\n",
      "    accuracy                           0.97     14538\n",
      "   macro avg       0.96      0.96      0.96     14538\n",
      "weighted avg       0.97      0.97      0.97     14538\n",
      "\n"
     ]
    }
   ],
   "source": [
    "y_pred_boost = gs_boost.best_estimator_.predict(X_test)\n",
    "from sklearn.metrics import classification_report, confusion_matrix\n",
    "boost_conf = confusion_matrix(y_test, y_pred_boost)\n",
    "print(boost_conf)\n",
    "print(classification_report(y_test, y_pred_boost))"
   ]
  },
  {
   "cell_type": "code",
   "execution_count": 22,
   "id": "da4a50e2",
   "metadata": {},
   "outputs": [
    {
     "data": {
      "image/png": "[encoded data removed]",
      "text/plain": [
       "<Figure size 432x288 with 2 Axes>"
      ]
     },
     "metadata": {
      "needs_background": "light"
     },
     "output_type": "display_data"
    }
   ],
   "source": [
    "import seaborn as sns\n",
    "\n",
    "group_names = ['True Neg','False Pos','False Neg','True Pos']\n",
    "group_counts = [\"{0:0.0f}\".format(value) for value in\n",
    "boost_conf.flatten()]\n",
    "group_percentages = [\"{0:.2%}\".format(value) for value in\n",
    "boost_conf.flatten()/np.sum(boost_conf)]\n",
    "labels = [f\"{v1}\\n{v2}\\n{v3}\" for v1, v2, v3 in\n",
    "zip(group_names,group_counts,group_percentages)]\n",
    "labels = np.asarray(labels).reshape(2,2)\n",
    "ax = sns.heatmap(boost_conf, annot=labels, fmt='', cmap='Blues')\n",
    "ax.set_title('Xgboost Confusion Matrix with labels\\n\\n');\n",
    "ax.set_xlabel('\\nPredicted Values')\n",
    "ax.set_ylabel('Actual Values ');\n",
    "## Ticket labels - List must be in alphabetical order\n",
    "ax.xaxis.set_ticklabels(['False','True'])\n",
    "ax.yaxis.set_ticklabels(['False','True'])\n",
    "## Display the visualization of the Confusion Matrix.\n",
    "plt.show()"
   ]
  },
  {
   "cell_type": "code",
   "execution_count": 23,
   "id": "d2769e56",
   "metadata": {},
   "outputs": [
    {
     "name": "stdout",
     "output_type": "stream",
     "text": [
      "Accuracy: 0.9588664190397579\n"
     ]
    }
   ],
   "source": [
    "from sklearn import svm\n",
    "clf = svm.SVC(kernel='linear')\n",
    "clf.fit(X_train, y_train)\n",
    "y_pred_svm = clf.predict(X_test)\n",
    "\n",
    "from sklearn import metrics\n",
    "\n",
    "print(\"Accuracy:\",metrics.accuracy_score(y_test, y_pred_svm))"
   ]
  },
  {
   "cell_type": "code",
   "execution_count": null,
   "id": "d3fb4cb9",
   "metadata": {},
   "outputs": [],
   "source": []
  }
 ],
 "metadata": {
  "kernelspec": {
   "display_name": "Python 3",
   "language": "python",
   "name": "python3"
  },
  "language_info": {
   "codemirror_mode": {
    "name": "ipython",
    "version": 3
   },
   "file_extension": ".py",
   "mimetype": "text/x-python",
   "name": "python",
   "nbconvert_exporter": "python",
   "pygments_lexer": "ipython3",
   "version": "3.6.9"
  }
 },
 "nbformat": 4,
 "nbformat_minor": 5
}
